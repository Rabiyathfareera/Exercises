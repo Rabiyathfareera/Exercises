{
 "cells": [
  {
   "cell_type": "markdown",
   "metadata": {},
   "source": [
    "### The questions for the exercises are given above the cells and the expected output is given below the cell. Please type the code inserting a new cell below the question because if you run the expected output cell, the output would vanish."
   ]
  },
  {
   "cell_type": "markdown",
   "metadata": {},
   "source": [
    "### 1. Write a python program to find those numbers which are divisible by 7 and multiple of 5, between 1500 and 2700 [both included]."
   ]
  },
  {
   "cell_type": "code",
   "execution_count": 4,
   "metadata": {},
   "outputs": [
    {
     "name": "stdout",
     "output_type": "stream",
     "text": [
      "[1505, 1540, 1575, 1610, 1645, 1680, 1715, 1750, 1785, 1820, 1855, 1890, 1925, 1960, 1995, 2030, 2065, 2100, 2135, 2170, 2205, 2240, 2275, 2310, 2345, 2380, 2415, 2450, 2485, 2520, 2555, 2590, 2625, 2660, 2695]\n"
     ]
    }
   ],
   "source": [
    "a=[]\n",
    "for i in range(1500,2701):\n",
    "    if (i%7==0) and (i%5==0):\n",
    "        a.append(i)\n",
    "print(a)"
   ]
  },
  {
   "cell_type": "markdown",
   "metadata": {},
   "source": [
    "### 2. Write a python program to construct the following pattern, using a nested for loop."
   ]
  },
  {
   "cell_type": "code",
   "execution_count": 2,
   "metadata": {},
   "outputs": [
    {
     "name": "stdout",
     "output_type": "stream",
     "text": [
      " \n",
      "* \n",
      "** \n",
      "*** \n",
      "**** \n",
      "***** \n",
      "**** \n",
      "*** \n",
      "** \n",
      "* \n"
     ]
    }
   ],
   "source": [
    "input_symbol = '*'\n",
    "n = 5\n",
    "for i in range(5):\n",
    "    for j in range(i):\n",
    "        print(\"*\",end=\"\")\n",
    "    print(\" \")\n",
    "for i in range(n,0,-1):\n",
    "    for j in range(i):\n",
    "        print(\"*\",end =\"\")\n",
    "    print(\" \")"
   ]
  },
  {
   "cell_type": "markdown",
   "metadata": {},
   "source": [
    "### 3.Write a python program to count the number of even and odd numbers from a series of numbers."
   ]
  },
  {
   "cell_type": "code",
   "execution_count": 3,
   "metadata": {},
   "outputs": [
    {
     "name": "stdout",
     "output_type": "stream",
     "text": [
      "Number of even numbers : 4\n",
      "Number of odd numbers : 5\n"
     ]
    }
   ],
   "source": [
    "i = 1\n",
    "even = 0\n",
    "odd = 0\n",
    "while i <=9:\n",
    "    if i%2==0:\n",
    "        even = even+1\n",
    "    else:\n",
    "        odd = odd+1\n",
    "    i = i + 1\n",
    "print(\"Number of even numbers : \" + str(even))\n",
    "print(\"Number of odd numbers : \" +str(odd))"
   ]
  },
  {
   "cell_type": "markdown",
   "metadata": {},
   "source": [
    "### 4. Write a python program to find numbers between 100 and 400(both included) where each digit of a number is an even number. The number obtained should be printed in a comma-separated sequences."
   ]
  },
  {
   "cell_type": "code",
   "execution_count": 4,
   "metadata": {},
   "outputs": [
    {
     "name": "stdout",
     "output_type": "stream",
     "text": [
      "200,202,204,206,208,220,222,224,226,228,240,242,244,246,248,260,262,264,266,268,280,282,284,286,288,400\n"
     ]
    }
   ],
   "source": [
    "items = []\n",
    "for num in range(100, 401):\n",
    "    n = str(num)\n",
    "    if (int(n[0])%2==0 and int(n[1])%2==0 and int(n[2])%2==0):\n",
    "        items.append(n)\n",
    "print(\",\".join(items))"
   ]
  },
  {
   "cell_type": "markdown",
   "metadata": {},
   "source": [
    "### 5. Write a python program to calculate a dog's age in dog's years. Go to the editor.\n",
    "#### Note: For the first two years, a dog year is equal to 10.5 human years. After that, each dog year equals 4 human years. "
   ]
  },
  {
   "cell_type": "code",
   "execution_count": 2,
   "metadata": {},
   "outputs": [
    {
     "name": "stdout",
     "output_type": "stream",
     "text": [
      "input a dog's age in human years: 20\n",
      "The dog's age in dog's years is 93\n"
     ]
    }
   ],
   "source": [
    "human_age = int(input(\"input a dog's age in human years: \"))\n",
    "if human_age <0:\n",
    "    print(\"age should be a positive number\")\n",
    "elif human_age <= 2:\n",
    "    dog_age = 10.5 * human_age\n",
    "else:\n",
    "    dog_age = 21 + (human_age - 2)*4\n",
    "print(\"The dog's age in dog's years is\", dog_age)"
   ]
  },
  {
   "cell_type": "markdown",
   "metadata": {},
   "source": [
    "### 6. Write a python function to find the max of three numbers,"
   ]
  },
  {
   "cell_type": "code",
   "execution_count": 3,
   "metadata": {},
   "outputs": [
    {
     "name": "stdout",
     "output_type": "stream",
     "text": [
      "6\n"
     ]
    }
   ],
   "source": [
    "num = (3, 6, -5)\n",
    "i = 0\n",
    "for n in num:\n",
    "    if n>i:\n",
    "        i = n\n",
    "        continue\n",
    "print(i)"
   ]
  },
  {
   "cell_type": "markdown",
   "metadata": {},
   "source": [
    "### 7. Write a python function that takes a number as a parameter and check the number is prime or not"
   ]
  },
  {
   "cell_type": "code",
   "execution_count": 1,
   "metadata": {},
   "outputs": [
    {
     "data": {
      "text/plain": [
       "False"
      ]
     },
     "execution_count": 1,
     "metadata": {},
     "output_type": "execute_result"
    }
   ],
   "source": [
    "def prime_num(s):\n",
    "    if s==0 or s==1:\n",
    "        return False\n",
    "    for i in range(2, int(s/2)+1):\n",
    "        if(s%i==0):\n",
    "            return False\n",
    "    else:\n",
    "        return True\n",
    "prime_num(9)"
   ]
  },
  {
   "cell_type": "markdown",
   "metadata": {},
   "source": [
    "### 8.Write a python function that accepts a string and calculate the number of upper case letters and lower case letters. Go to the editor."
   ]
  },
  {
   "cell_type": "code",
   "execution_count": 5,
   "metadata": {},
   "outputs": [
    {
     "name": "stdout",
     "output_type": "stream",
     "text": [
      "No. of Upper case characters:  13\n",
      "No. of lower case characters:  32\n"
     ]
    }
   ],
   "source": [
    "def case_count(s):\n",
    "    count_u = 0\n",
    "    count_l = 0\n",
    "    for i in s:\n",
    "        if i.isupper():\n",
    "            count_u +=1\n",
    "        elif i.islower():\n",
    "            count_l +=1\n",
    "    print(\"No. of Upper case characters: \", count_u)\n",
    "    print(\"No. of lower case characters: \", count_l)\n",
    "case_count(\"Inceptz is One of The BeSt Places TO LEarn DataSciEnce\")"
   ]
  },
  {
   "cell_type": "markdown",
   "metadata": {},
   "source": [
    "### 9. Write a python program to reverse a string. "
   ]
  },
  {
   "cell_type": "code",
   "execution_count": 3,
   "metadata": {},
   "outputs": [
    {
     "name": "stdout",
     "output_type": "stream",
     "text": [
      "The original string is: 1234abcd\n",
      "The reversed string using reversed() is: d c b a 4 3 2 1\n"
     ]
    }
   ],
   "source": [
    "def reverse(str):\n",
    "    string = \" \".join(reversed(str))\n",
    "    return string\n",
    "s=\"1234abcd\"\n",
    "print(\"The original string is:\",s)\n",
    "print(\"The reversed string using reversed() is:\",reverse(s))"
   ]
  },
  {
   "cell_type": "markdown",
   "metadata": {},
   "source": [
    "### 10. Write a python program to find the greatest common divisor (gcd) of two integers."
   ]
  },
  {
   "cell_type": "code",
   "execution_count": 1,
   "metadata": {},
   "outputs": [
    {
     "name": "stdout",
     "output_type": "stream",
     "text": [
      "The two numbers are: (12, 14)\n",
      "The GCD of two numbers is : 2\n"
     ]
    }
   ],
   "source": [
    "import math\n",
    "def gcd_of_two_integers(num1, num2):\n",
    "    print(\"The two numbers are: (12, 14)\")\n",
    "    return math.gcd(num1, num2)\n",
    "print(\"The GCD of two numbers is : \" + str(gcd_of_two_integers(12, 14)))"
   ]
  },
  {
   "cell_type": "markdown",
   "metadata": {},
   "source": [
    "### 11. Write a function to find if a string is a palindrome or not!"
   ]
  },
  {
   "cell_type": "code",
   "execution_count": 3,
   "metadata": {},
   "outputs": [
    {
     "name": "stdout",
     "output_type": "stream",
     "text": [
      "string: level\n",
      "String is a palindrome!\n"
     ]
    }
   ],
   "source": [
    "str = input(\"string: \")\n",
    "if str[0:]==str[::-1]:\n",
    "    print(\"String is a palindrome!\")\n",
    "else:\n",
    "    print(\"String is not a palindrome!\")"
   ]
  },
  {
   "cell_type": "code",
   "execution_count": 4,
   "metadata": {},
   "outputs": [
    {
     "name": "stdout",
     "output_type": "stream",
     "text": [
      "string: data science\n",
      "String is not a palindrome!\n"
     ]
    }
   ],
   "source": [
    "str = input(\"string: \")\n",
    "if str[0:]==str[::-1]:\n",
    "    print(\"String is a palindrome!\")\n",
    "else:\n",
    "    print(\"String is not a palindrome!\")"
   ]
  },
  {
   "cell_type": "markdown",
   "metadata": {},
   "source": [
    "### 12. Write a recurssive function to find if a string is a palindrome or not!"
   ]
  },
  {
   "cell_type": "code",
   "execution_count": 1,
   "metadata": {},
   "outputs": [
    {
     "name": "stdout",
     "output_type": "stream",
     "text": [
      "string: CIVIC\n",
      "String is a palindrome!\n"
     ]
    }
   ],
   "source": [
    "## String-1\n",
    "def is_palindrome(str):\n",
    "    if len(str) < 2:\n",
    "        return True\n",
    "    else:\n",
    "        if (str[0]==str[-1]):\n",
    "            return is_palindrome(str[1:-1])\n",
    "        else:\n",
    "            return False\n",
    "a = str(input(\"string: \"))\n",
    "if (is_palindrome(a)==True):\n",
    "    print(\"String is a palindrome!\")\n",
    "else:\n",
    "    print(\"String is not a palindrome!\")"
   ]
  },
  {
   "cell_type": "code",
   "execution_count": 2,
   "metadata": {},
   "outputs": [
    {
     "name": "stdout",
     "output_type": "stream",
     "text": [
      "string: INCEPTEZ\n",
      "String is not a palindrome!\n"
     ]
    }
   ],
   "source": [
    "## String-2\n",
    "def is_palindrome(str):\n",
    "    if len(str) < 2:\n",
    "        return True\n",
    "    else:\n",
    "        if (str[0]==str[-1]):\n",
    "            return is_palindrome(str[1:-1])\n",
    "        else:\n",
    "            return False\n",
    "a = str(input(\"string: \"))\n",
    "if (is_palindrome(a)==True):\n",
    "    print(\"String is a palindrome!\")\n",
    "else:\n",
    "    print(\"String is not a palindrome!\")"
   ]
  }
 ],
 "metadata": {
  "kernelspec": {
   "display_name": "Python 3",
   "language": "python",
   "name": "python3"
  },
  "language_info": {
   "codemirror_mode": {
    "name": "ipython",
    "version": 3
   },
   "file_extension": ".py",
   "mimetype": "text/x-python",
   "name": "python",
   "nbconvert_exporter": "python",
   "pygments_lexer": "ipython3",
   "version": "3.8.5"
  }
 },
 "nbformat": 4,
 "nbformat_minor": 4
}
